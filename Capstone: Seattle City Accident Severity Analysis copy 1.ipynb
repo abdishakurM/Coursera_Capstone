{
    "cells": [
        {
            "cell_type": "markdown",
            "metadata": {
                "collapsed": true
            },
            "source": "# Capstone Project: Accident Severity Analysis of Seattle City\n\n### IBM/Coursera Applied Data Science Capstone"
        },
        {
            "cell_type": "markdown",
            "metadata": {},
            "source": "## Introduction: Business Problem\n\n"
        },
        {
            "cell_type": "markdown",
            "metadata": {},
            "source": "In this project we will analyze collision data of Seattle City collisions/accidents to understand the accident that occur in the city and then build a machine learning model that predicts accident severity given the conditions in which the accidents occur.\n\nThe report in intended for use by City officials in charge of traffic safety looking for ways of improving pedestrian and passenger safety and the emergency responders trying to minimize fatalities arising from traffic collisions/accidents.\n"
        },
        {
            "cell_type": "markdown",
            "metadata": {},
            "source": "## Data"
        },
        {
            "cell_type": "markdown",
            "metadata": {},
            "source": "The Seattle City collison data can be found in this link: https://s3.us.cloud-object-storage.appdomain.cloud/cf-courses-data/CognitiveClass/DP0701EN/version-2/Data-Collisions.csv\n\nThe data in unbalanced as provided and has a label that describes the fatality of the accident. This label is our target field for the machine learning model and needs to be predicted using the available features of the data.\n\nSome of the features we can use for the machine learning model are:\n-Location\n-Weather condition\n-Car speeding\n-Light condition\n-Road condition\n-Junction condition\n-Number of people involved\n-Number of vehicles involved\n\n"
        }
    ],
    "metadata": {
        "kernelspec": {
            "display_name": "Python 3.6",
            "language": "python",
            "name": "python3"
        },
        "language_info": {
            "codemirror_mode": {
                "name": "ipython",
                "version": 3
            },
            "file_extension": ".py",
            "mimetype": "text/x-python",
            "name": "python",
            "nbconvert_exporter": "python",
            "pygments_lexer": "ipython3",
            "version": "3.6.9"
        }
    },
    "nbformat": 4,
    "nbformat_minor": 1
}